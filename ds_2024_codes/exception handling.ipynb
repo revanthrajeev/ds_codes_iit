{
 "cells": [
  {
   "cell_type": "code",
   "execution_count": 7,
   "id": "8e3aa6df",
   "metadata": {},
   "outputs": [
    {
     "name": "stdout",
     "output_type": "stream",
     "text": [
      "10\n",
      "0\n",
      " Invalid input, divisor can not be zero\n",
      "From finally block\n"
     ]
    }
   ],
   "source": [
    "#except is used for exception handling instead of general error we will use an pre defined error words\n",
    "a = int(input())\n",
    "b = int(input())\n",
    "try:\n",
    "    f=open('abc.txt','r')\n",
    "    c = a / b\n",
    "    print(c)\n",
    "except ZeroDivisionError:\n",
    "    print(' Invalid input, divisor can not be zero')\"\"\"here the above ZeroDivisionError is inbuilt error thier are\n",
    "    approx 30 like them whenever the expect with this error given if will print\"\"\"\n",
    "except:\n",
    "    print( 'Something went wrong')#this is normal excpection it can be used to print for all non or failed try conditions it is general\n",
    "finally:\n",
    "    f. close()\n",
    "    print ('From finally block')# will be excecuted either except works or not works finally is default"
   ]
  },
  {
   "cell_type": "code",
   "execution_count": 8,
   "id": "7fe703dd",
   "metadata": {},
   "outputs": [
    {
     "name": "stdout",
     "output_type": "stream",
     "text": [
      "9\n"
     ]
    },
    {
     "ename": "Exception",
     "evalue": "You are underage, can not vote",
     "output_type": "error",
     "traceback": [
      "\u001b[0;31m---------------------------------------------------------------------------\u001b[0m",
      "\u001b[0;31mException\u001b[0m                                 Traceback (most recent call last)",
      "Cell \u001b[0;32mIn[8], line 3\u001b[0m\n\u001b[1;32m      1\u001b[0m a \u001b[38;5;241m=\u001b[39m \u001b[38;5;28mint\u001b[39m(\u001b[38;5;28minput\u001b[39m ( ))\n\u001b[1;32m      2\u001b[0m \u001b[38;5;28;01mif\u001b[39;00m a \u001b[38;5;241m<\u001b[39m \u001b[38;5;241m18\u001b[39m:\n\u001b[0;32m----> 3\u001b[0m     \u001b[38;5;28;01mraise\u001b[39;00m \u001b[38;5;167;01mException\u001b[39;00m(\u001b[38;5;124m'\u001b[39m\u001b[38;5;124mYou are underage, can not vote\u001b[39m\u001b[38;5;124m'\u001b[39m)\n",
      "\u001b[0;31mException\u001b[0m: You are underage, can not vote"
     ]
    }
   ],
   "source": [
    "a = int(input ( ))\n",
    "if a < 18:\n",
    "    raise Exception('You are underage, can not vote') #raise Exception this gives the error with your deault message"
   ]
  }
 ],
 "metadata": {
  "kernelspec": {
   "display_name": "Python 3 (ipykernel)",
   "language": "python",
   "name": "python3"
  },
  "language_info": {
   "codemirror_mode": {
    "name": "ipython",
    "version": 3
   },
   "file_extension": ".py",
   "mimetype": "text/x-python",
   "name": "python",
   "nbconvert_exporter": "python",
   "pygments_lexer": "ipython3",
   "version": "3.11.5"
  }
 },
 "nbformat": 4,
 "nbformat_minor": 5
}
