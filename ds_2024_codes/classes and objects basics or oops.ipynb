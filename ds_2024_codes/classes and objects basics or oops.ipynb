{
 "cells": [
  {
   "cell_type": "code",
   "execution_count": 1,
   "id": "47aa6dde",
   "metadata": {},
   "outputs": [
    {
     "name": "stdout",
     "output_type": "stream",
     "text": [
      "1 Revanth\n"
     ]
    }
   ],
   "source": [
    "#class and object are also called as oops of object oreineted programming\n",
    "class rev:\n",
    "    roll_no=None\n",
    "    name=None\n",
    "#here rev is called class and roll_no and name are variables under class which can be updated\n",
    "obj=rev() #this is calling an object here obj is called object and rev()is calling it{class calling}\n",
    "obj.roll_no=1\n",
    "obj.name=\"Revanth\"#defining the object value to class varibale which can be altered for other sequences\n",
    "print(obj.roll_no,obj.name)#printing the object values"
   ]
  },
  {
   "cell_type": "code",
   "execution_count": 2,
   "id": "6c53ec21",
   "metadata": {},
   "outputs": [
    {
     "name": "stdout",
     "output_type": "stream",
     "text": [
      "2 Smitha\n"
     ]
    }
   ],
   "source": [
    "#we can also update the value of obj but stored in the seperate container or called object\n",
    "obj2=rev()\n",
    "obj2.roll_no=2\n",
    "obj2.name=\"Smitha\"\n",
    "print(obj2.roll_no,obj2.name)#here the obj2 holds other value similar to this we can make multiple containers with values"
   ]
  },
  {
   "cell_type": "code",
   "execution_count": 4,
   "id": "45d250f2",
   "metadata": {},
   "outputs": [
    {
     "ename": "TypeError",
     "evalue": "Student() takes no arguments",
     "output_type": "error",
     "traceback": [
      "\u001b[0;31m---------------------------------------------------------------------------\u001b[0m",
      "\u001b[0;31mTypeError\u001b[0m                                 Traceback (most recent call last)",
      "Cell \u001b[0;32mIn[4], line 7\u001b[0m\n\u001b[1;32m      5\u001b[0m     \u001b[38;5;28;01mdef\u001b[39;00m \u001b[38;5;21mdisplay\u001b[39m(\u001b[38;5;28mself\u001b[39m):\n\u001b[1;32m      6\u001b[0m         \u001b[38;5;28mprint\u001b[39m(\u001b[38;5;28mself\u001b[39m\u001b[38;5;241m.\u001b[39mroll_no, \u001b[38;5;28mself\u001b[39m\u001b[38;5;241m.\u001b[39m name)\n\u001b[0;32m----> 7\u001b[0m s0 \u001b[38;5;241m=\u001b[39m Student(\u001b[38;5;241m0\u001b[39m, \u001b[38;5;124m'\u001b[39m\u001b[38;5;124mBhuvanesh\u001b[39m\u001b[38;5;124m'\u001b[39m)\n\u001b[1;32m      8\u001b[0m s0\u001b[38;5;241m.\u001b[39mdisplay()\n\u001b[1;32m      9\u001b[0m s1 \u001b[38;5;241m=\u001b[39m Student(\u001b[38;5;241m1\u001b[39m, \u001b[38;5;124m'\u001b[39m\u001b[38;5;124mHarish\u001b[39m\u001b[38;5;124m'\u001b[39m)\n",
      "\u001b[0;31mTypeError\u001b[0m: Student() takes no arguments"
     ]
    }
   ],
   "source": [
    "class Student:\n",
    "    def _init_(self, roll_no, name) :\n",
    "        self.roll_no = roll_no\n",
    "        self.name = name\n",
    "    def display(self):\n",
    "        print(self.roll_no, self. name)\n",
    "s0 = Student(0, 'Bhuvanesh')\n",
    "s0.display()\n",
    "s1 = Student(1, 'Harish')\n",
    "s1.display()"
   ]
  }
 ],
 "metadata": {
  "kernelspec": {
   "display_name": "Python 3 (ipykernel)",
   "language": "python",
   "name": "python3"
  },
  "language_info": {
   "codemirror_mode": {
    "name": "ipython",
    "version": 3
   },
   "file_extension": ".py",
   "mimetype": "text/x-python",
   "name": "python",
   "nbconvert_exporter": "python",
   "pygments_lexer": "ipython3",
   "version": "3.11.5"
  }
 },
 "nbformat": 4,
 "nbformat_minor": 5
}
