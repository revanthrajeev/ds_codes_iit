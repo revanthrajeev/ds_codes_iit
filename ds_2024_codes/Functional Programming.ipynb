{
 "cells": [
  {
   "cell_type": "code",
   "execution_count": 6,
   "id": "c679c9a6",
   "metadata": {},
   "outputs": [
    {
     "name": "stdout",
     "output_type": "stream",
     "text": [
      "<list_iterator object at 0x103b68430>\n",
      "mango\n",
      "apple\n",
      "strawberry\n",
      "kiwi\n",
      "borassus\n",
      "guava\n",
      "grapes\n",
      "watermelon\n"
     ]
    },
    {
     "ename": "StopIteration",
     "evalue": "",
     "output_type": "error",
     "traceback": [
      "\u001b[0;31m---------------------------------------------------------------------------\u001b[0m",
      "\u001b[0;31mStopIteration\u001b[0m                             Traceback (most recent call last)",
      "Cell \u001b[0;32mIn[6], line 12\u001b[0m\n\u001b[1;32m     10\u001b[0m \u001b[38;5;28mprint\u001b[39m(\u001b[38;5;28mnext\u001b[39m(c))\n\u001b[1;32m     11\u001b[0m \u001b[38;5;28mprint\u001b[39m(\u001b[38;5;28mnext\u001b[39m(c))\n\u001b[0;32m---> 12\u001b[0m \u001b[38;5;28mprint\u001b[39m(\u001b[38;5;28mnext\u001b[39m(c))\n",
      "\u001b[0;31mStopIteration\u001b[0m: "
     ]
    }
   ],
   "source": [
    "fruit=[\"mango\",\"apple\",\"strawberry\",\"kiwi\",\"borassus\",\"guava\",\"grapes\",\"watermelon\"]\n",
    "c=iter(fruit)#iter function make iteration inseatd of manual method like print(i)\n",
    "print(c)#print the type of c and its location\n",
    "print(next(c))#prints first elemnt of the list\n",
    "print(next(c))#prints first elemnt of the list\n",
    "print(next(c))#prints first elemnt of the list\n",
    "print(next(c))#prints first elemnt of the list\n",
    "print(next(c))#prints first elemnt of the list\n",
    "print(next(c))\n",
    "print(next(c))\n",
    "print(next(c))\n",
    "print(next(c))#prints error beause not their in list after watermelon"
   ]
  },
  {
   "cell_type": "code",
   "execution_count": 14,
   "id": "703c8145",
   "metadata": {},
   "outputs": [
    {
     "name": "stdout",
     "output_type": "stream",
     "text": [
      "0 0\n",
      "1 1\n",
      "4 8\n",
      "9 27\n"
     ]
    }
   ],
   "source": [
    "def square(Limit):\n",
    "    x = 0\n",
    "    while x <Limit:\n",
    "        yield x * x #yeild function is used for iterating value means changing or updating value of x\n",
    "        yield x * x*x\n",
    "        x += 1\n",
    "a = square(5)\n",
    "print(next(a), next(a))#for printing the first element\n",
    "print(next(a), next(a))#for printing 2nd element in 2nd column\n",
    "print(next(a), next(a))\n",
    "print(next(a), next(a))"
   ]
  },
  {
   "cell_type": "code",
   "execution_count": 20,
   "id": "00eaeb99",
   "metadata": {},
   "outputs": [
    {
     "name": "stdout",
     "output_type": "stream",
     "text": [
      "20\n",
      "10\n",
      "9\n",
      "8\n",
      "7\n",
      "6\n",
      "5\n",
      "4\n",
      "3\n",
      "2\n",
      "1\n"
     ]
    }
   ],
   "source": [
    "#we can write if else in single line also loops\n",
    "a=10\n",
    "b=20\n",
    "small=b if(a<b) else b\n",
    "print(small)\n",
    "\n",
    "\n",
    "#loops\n",
    "while(a>0):print(a);a-=1"
   ]
  },
  {
   "cell_type": "code",
   "execution_count": 26,
   "id": "068ad75c",
   "metadata": {},
   "outputs": [
    {
     "name": "stdout",
     "output_type": "stream",
     "text": [
      "['Mango', 'Banana', 'Orange', 'Pineapple', 'Watermelon']\n"
     ]
    }
   ],
   "source": [
    "fruits = [\"mango\", \"apple\", \"banana\", \"orange\", \"pineapple\",\n",
    "\"watermelon\", \"guava\", \"kiwi\"]\n",
    "\"\"\"newList = []\n",
    "for fruit in fruits: if 'n' in fruit:\n",
    "newList. append (fruit. capitalize())\n",
    "\"\"\"#ABOVE IS MULTILINE CODE\n",
    "newList = [fruit.capitalize() for fruit in fruits if 'n' in fruit]#SINGLE LINE CODE\n",
    "print(newList)"
   ]
  },
  {
   "cell_type": "code",
   "execution_count": 27,
   "id": "00e6d0a0",
   "metadata": {},
   "outputs": [
    {
     "name": "stdout",
     "output_type": "stream",
     "text": [
      "30\n",
      "-10\n",
      "200\n",
      "0.5\n"
     ]
    }
   ],
   "source": [
    "def add(x, y):\n",
    "    return x + y\n",
    "\n",
    "def sub(x, y):\n",
    "    return x - y\n",
    "\n",
    "def mul(x, y):\n",
    "    return x * y\n",
    "\n",
    "def div(x, y):\n",
    "    return x / y\n",
    "#INSTEAD OF USING INDIVIDUAL FUNCTION OF DEF IN MULTILINE WE CAN USE LAMBDA FUNCTION AS BELOW\n",
    "add = lambda x, y: x + y\n",
    "sub = lambda x, y: x - y\n",
    "mul = lambda x, y: x * y\n",
    "div = lambda x, y: x / y\n",
    "\n",
    "print(add(10, 20))\n",
    "print(sub(10, 20))\n",
    "print(mul(10, 20))\n",
    "print(div(10, 20))\n"
   ]
  },
  {
   "cell_type": "code",
   "execution_count": 32,
   "id": "e33df226",
   "metadata": {},
   "outputs": [
    {
     "name": "stdout",
     "output_type": "stream",
     "text": [
      "<map object at 0x103c8cf70>\n",
      "[5, 10, 15, 20, 25, 30]\n",
      "[11, 21, 31, 41, 51, 61]\n"
     ]
    }
   ],
   "source": [
    "#map functin is nothing but joining 2 functions\n",
    "a = [10, 20, 30, 40, 50, 60]\n",
    "b = [5, 10, 15, 20, 25, 30]\n",
    "\n",
    "def sub(x, y):\n",
    "    return x - y\n",
    "#THE MAP FUNCTION ITERATES OVER THE LIST OF A AND B AND ALSO SIMULTANUSLY SUBTRACTS THE ELEMTNS OF THE LIST\n",
    "c = map(sub, a, b)# MAP FUNCTION IS USED TO ADD OR SUB ALL INDIVIDUAL ELEMENTS OF THE LIST WITH OTHER LIST AND RETURN THE VALUES OF IT\n",
    "print(c)#RETURN THE TYPE OF C AS MAP\n",
    "print(list(c))#PRINTS THE LIST OF NEW WHICH HAS SUBTRACTION OF ELEMENTS\n",
    "def incr(x):\n",
    "    return x+1#this add +1 to add elements in list a or x\n",
    "c=map(incr,a)#this runs both def and a+1 function\n",
    "print(list(c))#makes the list of the map"
   ]
  }
 ],
 "metadata": {
  "kernelspec": {
   "display_name": "Python 3 (ipykernel)",
   "language": "python",
   "name": "python3"
  },
  "language_info": {
   "codemirror_mode": {
    "name": "ipython",
    "version": 3
   },
   "file_extension": ".py",
   "mimetype": "text/x-python",
   "name": "python",
   "nbconvert_exporter": "python",
   "pygments_lexer": "ipython3",
   "version": "3.11.5"
  }
 },
 "nbformat": 4,
 "nbformat_minor": 5
}
