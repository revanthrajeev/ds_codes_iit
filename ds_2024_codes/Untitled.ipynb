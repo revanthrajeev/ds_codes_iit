{
 "cells": [
  {
   "cell_type": "code",
   "execution_count": 27,
   "id": "865d5420",
   "metadata": {},
   "outputs": [
    {
     "ename": "ValueError",
     "evalue": "invalid literal for int() with base 10: ''",
     "output_type": "error",
     "traceback": [
      "\u001b[0;31m---------------------------------------------------------------------------\u001b[0m",
      "\u001b[0;31mValueError\u001b[0m                                Traceback (most recent call last)",
      "Cell \u001b[0;32mIn[27], line 6\u001b[0m\n\u001b[1;32m      4\u001b[0m \u001b[38;5;28;01mwhile\u001b[39;00m(n\u001b[38;5;241m!=\u001b[39m\u001b[38;5;241m0\u001b[39m):\n\u001b[1;32m      5\u001b[0m     n\u001b[38;5;241m=\u001b[39mf\u001b[38;5;241m.\u001b[39mreadline()\n\u001b[0;32m----> 6\u001b[0m     n\u001b[38;5;241m=\u001b[39m\u001b[38;5;28mint\u001b[39m(n)\n\u001b[1;32m      7\u001b[0m     \u001b[38;5;28;01mif\u001b[39;00m(n\u001b[38;5;241m==\u001b[39m\u001b[38;5;241m1234\u001b[39m):\n\u001b[1;32m      8\u001b[0m         \u001b[38;5;28mprint\u001b[39m(\u001b[38;5;124m\"\u001b[39m\u001b[38;5;124mgot the number\u001b[39m\u001b[38;5;124m\"\u001b[39m)\n",
      "\u001b[0;31mValueError\u001b[0m: invalid literal for int() with base 10: ''"
     ]
    }
   ],
   "source": [
    "f=open(\"phone-numbers.txt\",\"r\")\n",
    "flag=0\n",
    "n=\"0\"\n",
    "while(n!=0):\n",
    "    n=f.readline()\n",
    "    n=int(n)\n",
    "    if(n==1234):\n",
    "        print(\"got the number\")\n",
    "        flag=1\n",
    "if(flag==0):\n",
    "    print(\"number not found\")"
   ]
  },
  {
   "cell_type": "code",
   "execution_count": 28,
   "id": "700480bb",
   "metadata": {},
   "outputs": [
    {
     "ename": "KeyError",
     "evalue": "'T'",
     "output_type": "error",
     "traceback": [
      "\u001b[0;31m---------------------------------------------------------------------------\u001b[0m",
      "\u001b[0;31mKeyError\u001b[0m                                  Traceback (most recent call last)",
      "Cell \u001b[0;32mIn[28], line 14\u001b[0m\n\u001b[1;32m     12\u001b[0m c\u001b[38;5;241m=\u001b[39mf\u001b[38;5;241m.\u001b[39mread(\u001b[38;5;241m1\u001b[39m)\n\u001b[1;32m     13\u001b[0m \u001b[38;5;28;01mwhile\u001b[39;00m(c\u001b[38;5;241m!=\u001b[39m\u001b[38;5;124m\"\u001b[39m\u001b[38;5;124m\"\u001b[39m):\n\u001b[0;32m---> 14\u001b[0m     g\u001b[38;5;241m.\u001b[39mwrite(d[c])\n\u001b[1;32m     15\u001b[0m     c\u001b[38;5;241m=\u001b[39mf\u001b[38;5;241m.\u001b[39mread(\u001b[38;5;241m1\u001b[39m)\n\u001b[1;32m     16\u001b[0m f\u001b[38;5;241m.\u001b[39mclose()\n",
      "\u001b[0;31mKeyError\u001b[0m: 'T'"
     ]
    }
   ],
   "source": [
    "import string\n",
    "def cipher():\n",
    "    l=string.ascii_lowercase\n",
    "    l=list(l)\n",
    "    d={}\n",
    "    for i in range(len(l)):\n",
    "        d[l[i]]=l[(i+3)%26]\n",
    "    return d\n",
    "f=open(\"sherlock.txt\",\"r\")\n",
    "g=open(\"encrypted_sherlock.txt\",\"w\")\n",
    "d=cipher()\n",
    "c=f.read(1)\n",
    "while(c!=\"\"):\n",
    "    g.write(d[c])\n",
    "    c=f.read(1)\n",
    "f.close()\n",
    "g.close()"
   ]
  },
  {
   "cell_type": "code",
   "execution_count": 29,
   "id": "1932f7fd",
   "metadata": {},
   "outputs": [
    {
     "name": "stdout",
     "output_type": "stream",
     "text": [
      "True\n"
     ]
    }
   ],
   "source": [
    "a=open(\"checking.txt\",\"r\")\n",
    "b=a.read()\n",
    "print(\"oo\"in b)"
   ]
  },
  {
   "cell_type": "code",
   "execution_count": 30,
   "id": "47a6d206",
   "metadata": {},
   "outputs": [
    {
     "name": "stdout",
     "output_type": "stream",
     "text": [
      "             date    home_team away_team         team                scorer  \\\n",
      "0      1916-07-02        Chile   Uruguay      Uruguay       José Piendibene   \n",
      "1      1916-07-02        Chile   Uruguay      Uruguay      Isabelino Gradín   \n",
      "2      1916-07-02        Chile   Uruguay      Uruguay      Isabelino Gradín   \n",
      "3      1916-07-02        Chile   Uruguay      Uruguay       José Piendibene   \n",
      "4      1916-07-06    Argentina     Chile    Argentina         Alberto Ohaco   \n",
      "...           ...          ...       ...          ...                   ...   \n",
      "44105  2024-02-10        Qatar    Jordan        Qatar            Akram Afif   \n",
      "44106  2024-02-10        Qatar    Jordan        Qatar            Akram Afif   \n",
      "44107  2024-02-11  Ivory Coast   Nigeria      Nigeria  William Troost-Ekong   \n",
      "44108  2024-02-11  Ivory Coast   Nigeria  Ivory Coast         Franck Kessié   \n",
      "44109  2024-02-11  Ivory Coast   Nigeria  Ivory Coast      Sébastien Haller   \n",
      "\n",
      "       minute own_goal penalty  \n",
      "0        44.0    False   False  \n",
      "1        55.0    False   False  \n",
      "2        70.0    False   False  \n",
      "3        75.0    False   False  \n",
      "4         2.0    False   False  \n",
      "...       ...      ...     ...  \n",
      "44105    73.0    False    True  \n",
      "44106    90.0    False    True  \n",
      "44107    38.0    False   False  \n",
      "44108    62.0    False   False  \n",
      "44109    81.0    False   False  \n",
      "\n",
      "[44110 rows x 8 columns]\n",
      "50.01521198713709\n"
     ]
    }
   ],
   "source": [
    "import pandas as pd\n",
    "a=pd.read_csv(\"goal.csv\")\n",
    "print(a)\n",
    "print(a[\"minute\"].mean())"
   ]
  },
  {
   "cell_type": "code",
   "execution_count": 31,
   "id": "2c26ccd9",
   "metadata": {},
   "outputs": [
    {
     "name": "stdout",
     "output_type": "stream",
     "text": [
      "43847\n"
     ]
    }
   ],
   "source": [
    "print(a[\"minute\"].count())"
   ]
  },
  {
   "cell_type": "code",
   "execution_count": 32,
   "id": "67cc7a2b",
   "metadata": {},
   "outputs": [
    {
     "name": "stdout",
     "output_type": "stream",
     "text": [
      "122.0\n"
     ]
    }
   ],
   "source": [
    "print(a[\"minute\"].max())"
   ]
  },
  {
   "cell_type": "code",
   "execution_count": 33,
   "id": "8f4d5e85",
   "metadata": {},
   "outputs": [
    {
     "name": "stdout",
     "output_type": "stream",
     "text": [
      "1134     1.0\n",
      "14745    1.0\n",
      "18634    1.0\n",
      "3704     1.0\n",
      "40603    1.0\n",
      "        ... \n",
      "16798    NaN\n",
      "16824    NaN\n",
      "16825    NaN\n",
      "16826    NaN\n",
      "16835    NaN\n",
      "Name: minute, Length: 44110, dtype: float64\n"
     ]
    }
   ],
   "source": [
    "print(a[\"minute\"].sort_values())"
   ]
  },
  {
   "cell_type": "code",
   "execution_count": 35,
   "id": "1b7d154c",
   "metadata": {},
   "outputs": [
    {
     "name": "stdout",
     "output_type": "stream",
     "text": [
      "0            Uruguay\n",
      "1            Uruguay\n",
      "2            Uruguay\n",
      "3            Uruguay\n",
      "4          Argentina\n",
      "            ...     \n",
      "44105          Qatar\n",
      "44106          Qatar\n",
      "44107        Nigeria\n",
      "44108    Ivory Coast\n",
      "44109    Ivory Coast\n",
      "Name: team, Length: 44110, dtype: object <class 'pandas.core.series.Series'>\n"
     ]
    }
   ],
   "source": [
    "#Data frame is nothing but the full data set of csv file\n",
    "print(a[\"team\"],type(a[\"team\"]))\n",
    "#the above is series it means any column in data frame"
   ]
  },
  {
   "cell_type": "code",
   "execution_count": 36,
   "id": "a88d1772",
   "metadata": {},
   "outputs": [
    {
     "name": "stdout",
     "output_type": "stream",
     "text": [
      "         date  home_team away_team       team            scorer  minute  \\\n",
      "0  1916-07-02      Chile   Uruguay    Uruguay   José Piendibene    44.0   \n",
      "1  1916-07-02      Chile   Uruguay    Uruguay  Isabelino Gradín    55.0   \n",
      "2  1916-07-02      Chile   Uruguay    Uruguay  Isabelino Gradín    70.0   \n",
      "3  1916-07-02      Chile   Uruguay    Uruguay   José Piendibene    75.0   \n",
      "4  1916-07-06  Argentina     Chile  Argentina     Alberto Ohaco     2.0   \n",
      "\n",
      "  own_goal penalty  \n",
      "0    False   False  \n",
      "1    False   False  \n",
      "2    False   False  \n",
      "3    False   False  \n",
      "4    False   False  \n"
     ]
    }
   ],
   "source": [
    "print(a.head())#prints top 5 rows"
   ]
  },
  {
   "cell_type": "code",
   "execution_count": 37,
   "id": "01159930",
   "metadata": {},
   "outputs": [
    {
     "name": "stdout",
     "output_type": "stream",
     "text": [
      "             date    home_team away_team         team                scorer  \\\n",
      "44105  2024-02-10        Qatar    Jordan        Qatar            Akram Afif   \n",
      "44106  2024-02-10        Qatar    Jordan        Qatar            Akram Afif   \n",
      "44107  2024-02-11  Ivory Coast   Nigeria      Nigeria  William Troost-Ekong   \n",
      "44108  2024-02-11  Ivory Coast   Nigeria  Ivory Coast         Franck Kessié   \n",
      "44109  2024-02-11  Ivory Coast   Nigeria  Ivory Coast      Sébastien Haller   \n",
      "\n",
      "       minute own_goal penalty  \n",
      "44105    73.0    False    True  \n",
      "44106    90.0    False    True  \n",
      "44107    38.0    False   False  \n",
      "44108    62.0    False   False  \n",
      "44109    81.0    False   False  \n"
     ]
    }
   ],
   "source": [
    "print(a.tail())#last five rows print"
   ]
  },
  {
   "cell_type": "code",
   "execution_count": 38,
   "id": "5e2f728b",
   "metadata": {},
   "outputs": [
    {
     "name": "stdout",
     "output_type": "stream",
     "text": [
      "             date home_team             away_team   team  \\\n",
      "7786   1977-03-13     Qatar               Bahrain  Qatar   \n",
      "7787   1977-03-13     Qatar               Bahrain  Qatar   \n",
      "7820   1977-03-21     Qatar                Kuwait  Qatar   \n",
      "8932   1980-09-17     Qatar  United Arab Emirates  Qatar   \n",
      "8934   1980-09-17     Qatar  United Arab Emirates  Qatar   \n",
      "...           ...       ...                   ...    ...   \n",
      "44100  2024-02-07     Qatar                  Iran  Qatar   \n",
      "44102  2024-02-07     Qatar                  Iran  Qatar   \n",
      "44103  2024-02-10     Qatar                Jordan  Qatar   \n",
      "44105  2024-02-10     Qatar                Jordan  Qatar   \n",
      "44106  2024-02-10     Qatar                Jordan  Qatar   \n",
      "\n",
      "                               scorer  minute own_goal penalty  \n",
      "7786                   Mansour Muftah    40.0    False   False  \n",
      "7787   Hassan Myuter Saied Al Suwaidi    62.0    False   False  \n",
      "7820             Anbar Bashir Abubakr    82.0    False    True  \n",
      "8932                   Mansour Muftah    50.0    False   False  \n",
      "8934                   Mansour Muftah    60.0    False   False  \n",
      "...                               ...     ...      ...     ...  \n",
      "44100                      Akram Afif    43.0    False   False  \n",
      "44102                      Almoez Ali    82.0    False   False  \n",
      "44103                      Akram Afif    22.0    False    True  \n",
      "44105                      Akram Afif    73.0    False    True  \n",
      "44106                      Akram Afif    90.0    False    True  \n",
      "\n",
      "[284 rows x 8 columns]\n"
     ]
    }
   ],
   "source": [
    "print(a[a[\"team\"]==\"Qatar\"]) #to acess perticular element from the column of data frame like perticular qatar rows and coumn of team"
   ]
  },
  {
   "cell_type": "code",
   "execution_count": 39,
   "id": "f7b4c821",
   "metadata": {},
   "outputs": [
    {
     "name": "stdout",
     "output_type": "stream",
     "text": [
      "0               José Piendibene\n",
      "1              Isabelino Gradín\n",
      "2              Isabelino Gradín\n",
      "3               José Piendibene\n",
      "16             Isabelino Gradín\n",
      "                  ...          \n",
      "42381    Giorgian de Arrascaeta\n",
      "42421               Luis Suárez\n",
      "42422         Federico Valverde\n",
      "43003    Giorgian de Arrascaeta\n",
      "43004    Giorgian de Arrascaeta\n",
      "Name: scorer, Length: 793, dtype: object\n"
     ]
    }
   ],
   "source": [
    "print(a[a[\"team\"]==\"Uruguay\"][\"scorer\"])#from perticular rows then from perticular column give data"
   ]
  },
  {
   "cell_type": "code",
   "execution_count": 40,
   "id": "dd0ab815",
   "metadata": {},
   "outputs": [
    {
     "name": "stdout",
     "output_type": "stream",
     "text": [
      "Óscar Míguez\n"
     ]
    }
   ],
   "source": [
    "print(a[a[\"team\"]==\"Uruguay\"][\"scorer\"].max())#from perticular rows then from perticular column give data find max goals"
   ]
  },
  {
   "cell_type": "code",
   "execution_count": 41,
   "id": "5d803954",
   "metadata": {},
   "outputs": [
    {
     "name": "stdout",
     "output_type": "stream",
     "text": [
      "0        True\n",
      "1        True\n",
      "2        True\n",
      "3        True\n",
      "16       True\n",
      "         ... \n",
      "42381    True\n",
      "42421    True\n",
      "42422    True\n",
      "43003    True\n",
      "43004    True\n",
      "Name: minute, Length: 793, dtype: bool\n"
     ]
    }
   ],
   "source": [
    "print(a[a[\"team\"]==\"Uruguay\"][\"minute\"]>10)#from team time >10"
   ]
  },
  {
   "cell_type": "code",
   "execution_count": 42,
   "id": "2fcbdc0e",
   "metadata": {},
   "outputs": [
    {
     "name": "stdout",
     "output_type": "stream",
     "text": [
      "             date    home_team away_team         team                scorer  \\\n",
      "0      1916-07-02        Chile   Uruguay      Uruguay       José Piendibene   \n",
      "1      1916-07-02        Chile   Uruguay      Uruguay      Isabelino Gradín   \n",
      "2      1916-07-02        Chile   Uruguay      Uruguay      Isabelino Gradín   \n",
      "3      1916-07-02        Chile   Uruguay      Uruguay       José Piendibene   \n",
      "5      1916-07-06    Argentina     Chile        Chile        Telésforo Báez   \n",
      "...           ...          ...       ...          ...                   ...   \n",
      "44105  2024-02-10        Qatar    Jordan        Qatar            Akram Afif   \n",
      "44106  2024-02-10        Qatar    Jordan        Qatar            Akram Afif   \n",
      "44107  2024-02-11  Ivory Coast   Nigeria      Nigeria  William Troost-Ekong   \n",
      "44108  2024-02-11  Ivory Coast   Nigeria  Ivory Coast         Franck Kessié   \n",
      "44109  2024-02-11  Ivory Coast   Nigeria  Ivory Coast      Sébastien Haller   \n",
      "\n",
      "       minute own_goal penalty  \n",
      "0        44.0    False   False  \n",
      "1        55.0    False   False  \n",
      "2        70.0    False   False  \n",
      "3        75.0    False   False  \n",
      "5        44.0    False   False  \n",
      "...       ...      ...     ...  \n",
      "44105    73.0    False    True  \n",
      "44106    90.0    False    True  \n",
      "44107    38.0    False   False  \n",
      "44108    62.0    False   False  \n",
      "44109    81.0    False   False  \n",
      "\n",
      "[32042 rows x 8 columns]\n"
     ]
    }
   ],
   "source": [
    "print(a[a[\"minute\"].between(30,100)])#between function to find the interval between range"
   ]
  },
  {
   "cell_type": "code",
   "execution_count": 70,
   "id": "10f0f52b",
   "metadata": {},
   "outputs": [
    {
     "name": "stdout",
     "output_type": "stream",
     "text": [
      "32042\n"
     ]
    }
   ],
   "source": [
    "print(a[a[\"minute\"].between(30,100)].shape[0])#between function to find the interval between range and then find tuple usinbg shape function like it will print the nop of rows"
   ]
  },
  {
   "cell_type": "code",
   "execution_count": 71,
   "id": "9689f4a5",
   "metadata": {},
   "outputs": [
    {
     "name": "stdout",
     "output_type": "stream",
     "text": [
      "547\n"
     ]
    }
   ],
   "source": [
    "print(a[(a[\"team\"]==\"Uruguay\")&(a[\"minute\"]>30)].shape[0])#in pandas we use numpy and as & not and here we are using 2 parameters and finding the tuple ,number of rows"
   ]
  },
  {
   "cell_type": "code",
   "execution_count": 78,
   "id": "aceaef9c",
   "metadata": {},
   "outputs": [
    {
     "name": "stdout",
     "output_type": "stream",
     "text": [
      "{'A'ala Hubail': [23353, 23354, 23740, 23741, 23742, 24161, 24179, 24180, 24191, 24194, 27243, 27648, 27680], 'A. Elangovan': [13983], 'Aage Rou Jensen': [2478], 'Aaran Lines': [21378, 21442, 23642], 'Aaron Boupendza': [42146], 'Aaron Hughes': [30820], 'Aaron Long': [38611, 38616], 'Aaron Mooy': [34657, 35623, 39026, 42288], 'Aaron Njovu': [9641, 10666], 'Aaron Ramsey': [29712, 30947, 31199, 32606, 33110, 33417, 34274, 35238, 35882, 36838, 37215, 37703, 39591, 39592, 40824, 41530, 41976, 41978, 43546], 'Aaron Tumwa': [34434], 'Aarón Padilla Gutiérrez': [4293, 4305], 'Aarón Suárez': [43360], 'Aatef Jenyat': [27270], 'Aavo Sillandi': [1001], 'Abat Aymbetov': [39688, 40032, 42511, 42512, 42630, 43137, 43305, 43768], 'Abay Bokoleyev': [40709], 'Abbas Ahmed Atwi': [31513, 34980], 'Abbas Chahrour': [20200], 'Abbas Hassan Hassun': [20868, 20871], 'Abbas Obeid': [20236], 'Abbas Souan': [25012], 'Abbosbek Fayzullaev': [43934, 44069], 'Abdah Alif': [8949], 'Abdallah Azhar': [3363, 3415, 3616], 'Abdallah Deeb': [30728, 30903, 31319, 34851, 34853, 35567, 35627], 'Abdallah El Said': [35442, 36262, 36472, 36557], 'Abdel Halim Ali': [19230, 23733, 25275, 25277], 'Abdel Kafi El-Sheikh': [5274], 'Abdel Rasoul Hesham': [11835, 12212, 12242], 'Abdel Razak Al-Farjani': [11006], 'Abdel Razak Jaranah': [9626], 'Abdel Sattar Sabry': [17527, 18916, 20497, 21553], 'Abdel-Hadi Al-Maharmeh': [24696], 'Abdel-Zaher El-Saqqa': [20499, 26051], 'Abdelatif Bahdari': [35666], 'Abdelaziz Barrada': [32891], 'Abdelaziz Daidi': [9238], 'Abdelaziz Ibrahim Adam': [4054], 'Abdelfattah El Khattari': [19525, 19526], 'Abdelfettah Rhiati': [11126, 11820], 'Abdelghani Lakhal': [7676], 'Abdelhafid Tasfaout': [13313, 13315, 13814, 14326, 14591, 16018, 19217, 19242, 20496, 21028], 'Abdelhakim Serrar': [12450], 'Abdelilah Hafidi': [32484], 'Abdeljalil Hadda': [18192, 18276, 19868, 19869, 20873, 20874], 'Abdelkabir Mezyane': [13650], 'Abdelkader Ben Hassen': [15805], 'Abdelkader Ferhaoui': [11597], 'Abdelkader Ghezzal': [29112, 29645], 'Abdelkader Rakbaoui': [10397, 10966], 'Abdelkarim Hassan': [34877, 38079, 38851], 'Abdelkrim Merry': [11111, 11203, 11583], 'Abdellah Tazi': [7448], 'Abdelmajid Bouyboud': [13603, 14393], 'Abdelmajid Chetali': [3378, 4045, 4580], 'Abdelmajid Tlemçani': [3379], 'Abdelmalek Cherrad': [23105, 23106, 23335, 23963], 'Abdelmoumene Djabou': [33666, 33729], 'Abdelmutaleb Nasir': [3160], 'Abdelrazak Belgharbi': [11598], 'Abdelrazaq Al Hussain': [30259, 30261, 34331, 35587], 'Abdelwahab Lahmar': [4538], 'Abdelâali Zahraoui': [7440, 7461], 'Abderraouf Ben Aziza': [8127, 8155, 8179, 8181], 'Abderrazak Hamdallah': [32805], 'Abderrazak Khairi': [11201, 11202], 'Abdesalam Kames': [26016], 'Abdeslam Laghrissi': [14596], 'Abdeslam Ouaddou': [23306, 27557], 'Abdessalam Benjelloun': [27839], 'Abdesselam Adhouma': [6560], 'Abdesselem Cheman': [5481], 'Abdi Idleh Hamza': [38776], 'Abdiel Arroyo': [35837, 35981, 36941, 37220, 38604], 'Abdoh Otaif': [28225, 28535, 29019], 'Abdolreza Barzegari': [8956, 8960], 'Abdou Bin Amidou': [9107], 'Abdou Diallo': [41117, 42303], 'Abdou Jammeh': [31751, 35019], 'Abdou Karim Sèye': [10292], 'Abdou Traoré': [32652], 'Abdou-Rahman Njie': [23096], 'Abdoul Camara': [31620, 31641, 31897], 'Abdoul Tapsoba': [41326, 41534, 41535, 41668], 'Abdoul-Aziz Nikiema': [24256], 'Abdoulai Demba': [25607], 'Abdoulay Diaby': [38646], 'Abdoulaye Ba': [7649], 'Abdoulaye Cissé': [25585, 25587], 'Abdoulaye Emmerson': [11656, 11658], 'Abdoulaye Faye': [25034, 27572, 27750], 'Abdoulaye M'Baye': [19233], 'Abdoulaye Makhtar Diop': [5367], 'Abdoulaye Seck': [44006], 'Abdoulaye Traoré': [10366, 10367, 10390, 11099, 11100, 11115, 11582, 11590, 12432, 12433, 13324, 13326, 13329, 13392, 13645, 13943, 14762], 'Abdukahhor Marifaliev': [17473, 17477], 'Abdul Aziz Al-Muqbali': [31691, 32664, 34064, 35204, 35205, 39160, 39161], 'Abdul Aziz Corr': [15923], 'Abdul Farooq': [14123], ...}\n"
     ]
    }
   ],
   "source": [
    "k=(a.groupby(\"scorer\").groups)\n",
    "print(k)#groups the scorer column based on number of id or match id played by the player"
   ]
  },
  {
   "cell_type": "code",
   "execution_count": 80,
   "id": "d62e974b",
   "metadata": {},
   "outputs": [
    {
     "ename": "ValueError",
     "evalue": "All arrays must be of the same length",
     "output_type": "error",
     "traceback": [
      "\u001b[0;31m---------------------------------------------------------------------------\u001b[0m",
      "\u001b[0;31mValueError\u001b[0m                                Traceback (most recent call last)",
      "Cell \u001b[0;32mIn[80], line 1\u001b[0m\n\u001b[0;32m----> 1\u001b[0m df\u001b[38;5;241m=\u001b[39mpd\u001b[38;5;241m.\u001b[39mDataFrame(k)\n\u001b[1;32m      2\u001b[0m df\u001b[38;5;241m.\u001b[39mto_csv(\u001b[38;5;124m\"\u001b[39m\u001b[38;5;124mnew.csv\u001b[39m\u001b[38;5;124m\"\u001b[39m,index\u001b[38;5;241m=\u001b[39m\u001b[38;5;28;01mFalse\u001b[39;00m)\n",
      "File \u001b[0;32m~/anaconda3/lib/python3.11/site-packages/pandas/core/frame.py:709\u001b[0m, in \u001b[0;36mDataFrame.__init__\u001b[0;34m(self, data, index, columns, dtype, copy)\u001b[0m\n\u001b[1;32m    703\u001b[0m     mgr \u001b[38;5;241m=\u001b[39m \u001b[38;5;28mself\u001b[39m\u001b[38;5;241m.\u001b[39m_init_mgr(\n\u001b[1;32m    704\u001b[0m         data, axes\u001b[38;5;241m=\u001b[39m{\u001b[38;5;124m\"\u001b[39m\u001b[38;5;124mindex\u001b[39m\u001b[38;5;124m\"\u001b[39m: index, \u001b[38;5;124m\"\u001b[39m\u001b[38;5;124mcolumns\u001b[39m\u001b[38;5;124m\"\u001b[39m: columns}, dtype\u001b[38;5;241m=\u001b[39mdtype, copy\u001b[38;5;241m=\u001b[39mcopy\n\u001b[1;32m    705\u001b[0m     )\n\u001b[1;32m    707\u001b[0m \u001b[38;5;28;01melif\u001b[39;00m \u001b[38;5;28misinstance\u001b[39m(data, \u001b[38;5;28mdict\u001b[39m):\n\u001b[1;32m    708\u001b[0m     \u001b[38;5;66;03m# GH#38939 de facto copy defaults to False only in non-dict cases\u001b[39;00m\n\u001b[0;32m--> 709\u001b[0m     mgr \u001b[38;5;241m=\u001b[39m dict_to_mgr(data, index, columns, dtype\u001b[38;5;241m=\u001b[39mdtype, copy\u001b[38;5;241m=\u001b[39mcopy, typ\u001b[38;5;241m=\u001b[39mmanager)\n\u001b[1;32m    710\u001b[0m \u001b[38;5;28;01melif\u001b[39;00m \u001b[38;5;28misinstance\u001b[39m(data, ma\u001b[38;5;241m.\u001b[39mMaskedArray):\n\u001b[1;32m    711\u001b[0m     \u001b[38;5;28;01mfrom\u001b[39;00m \u001b[38;5;21;01mnumpy\u001b[39;00m\u001b[38;5;21;01m.\u001b[39;00m\u001b[38;5;21;01mma\u001b[39;00m \u001b[38;5;28;01mimport\u001b[39;00m mrecords\n",
      "File \u001b[0;32m~/anaconda3/lib/python3.11/site-packages/pandas/core/internals/construction.py:481\u001b[0m, in \u001b[0;36mdict_to_mgr\u001b[0;34m(data, index, columns, dtype, typ, copy)\u001b[0m\n\u001b[1;32m    477\u001b[0m     \u001b[38;5;28;01melse\u001b[39;00m:\n\u001b[1;32m    478\u001b[0m         \u001b[38;5;66;03m# dtype check to exclude e.g. range objects, scalars\u001b[39;00m\n\u001b[1;32m    479\u001b[0m         arrays \u001b[38;5;241m=\u001b[39m [x\u001b[38;5;241m.\u001b[39mcopy() \u001b[38;5;28;01mif\u001b[39;00m \u001b[38;5;28mhasattr\u001b[39m(x, \u001b[38;5;124m\"\u001b[39m\u001b[38;5;124mdtype\u001b[39m\u001b[38;5;124m\"\u001b[39m) \u001b[38;5;28;01melse\u001b[39;00m x \u001b[38;5;28;01mfor\u001b[39;00m x \u001b[38;5;129;01min\u001b[39;00m arrays]\n\u001b[0;32m--> 481\u001b[0m \u001b[38;5;28;01mreturn\u001b[39;00m arrays_to_mgr(arrays, columns, index, dtype\u001b[38;5;241m=\u001b[39mdtype, typ\u001b[38;5;241m=\u001b[39mtyp, consolidate\u001b[38;5;241m=\u001b[39mcopy)\n",
      "File \u001b[0;32m~/anaconda3/lib/python3.11/site-packages/pandas/core/internals/construction.py:115\u001b[0m, in \u001b[0;36marrays_to_mgr\u001b[0;34m(arrays, columns, index, dtype, verify_integrity, typ, consolidate)\u001b[0m\n\u001b[1;32m    112\u001b[0m \u001b[38;5;28;01mif\u001b[39;00m verify_integrity:\n\u001b[1;32m    113\u001b[0m     \u001b[38;5;66;03m# figure out the index, if necessary\u001b[39;00m\n\u001b[1;32m    114\u001b[0m     \u001b[38;5;28;01mif\u001b[39;00m index \u001b[38;5;129;01mis\u001b[39;00m \u001b[38;5;28;01mNone\u001b[39;00m:\n\u001b[0;32m--> 115\u001b[0m         index \u001b[38;5;241m=\u001b[39m _extract_index(arrays)\n\u001b[1;32m    116\u001b[0m     \u001b[38;5;28;01melse\u001b[39;00m:\n\u001b[1;32m    117\u001b[0m         index \u001b[38;5;241m=\u001b[39m ensure_index(index)\n",
      "File \u001b[0;32m~/anaconda3/lib/python3.11/site-packages/pandas/core/internals/construction.py:655\u001b[0m, in \u001b[0;36m_extract_index\u001b[0;34m(data)\u001b[0m\n\u001b[1;32m    653\u001b[0m lengths \u001b[38;5;241m=\u001b[39m \u001b[38;5;28mlist\u001b[39m(\u001b[38;5;28mset\u001b[39m(raw_lengths))\n\u001b[1;32m    654\u001b[0m \u001b[38;5;28;01mif\u001b[39;00m \u001b[38;5;28mlen\u001b[39m(lengths) \u001b[38;5;241m>\u001b[39m \u001b[38;5;241m1\u001b[39m:\n\u001b[0;32m--> 655\u001b[0m     \u001b[38;5;28;01mraise\u001b[39;00m \u001b[38;5;167;01mValueError\u001b[39;00m(\u001b[38;5;124m\"\u001b[39m\u001b[38;5;124mAll arrays must be of the same length\u001b[39m\u001b[38;5;124m\"\u001b[39m)\n\u001b[1;32m    657\u001b[0m \u001b[38;5;28;01mif\u001b[39;00m have_dicts:\n\u001b[1;32m    658\u001b[0m     \u001b[38;5;28;01mraise\u001b[39;00m \u001b[38;5;167;01mValueError\u001b[39;00m(\n\u001b[1;32m    659\u001b[0m         \u001b[38;5;124m\"\u001b[39m\u001b[38;5;124mMixing dicts with non-Series may lead to ambiguous ordering.\u001b[39m\u001b[38;5;124m\"\u001b[39m\n\u001b[1;32m    660\u001b[0m     )\n",
      "\u001b[0;31mValueError\u001b[0m: All arrays must be of the same length"
     ]
    }
   ],
   "source": [
    "df=pd.DataFrame(k)\n",
    "df.to_csv(\"new.csv\",index=False)#exports the scutinied file to csv saves to desktop"
   ]
  },
  {
   "cell_type": "code",
   "execution_count": null,
   "id": "33741e2f",
   "metadata": {},
   "outputs": [],
   "source": []
  }
 ],
 "metadata": {
  "kernelspec": {
   "display_name": "Python 3 (ipykernel)",
   "language": "python",
   "name": "python3"
  },
  "language_info": {
   "codemirror_mode": {
    "name": "ipython",
    "version": 3
   },
   "file_extension": ".py",
   "mimetype": "text/x-python",
   "name": "python",
   "nbconvert_exporter": "python",
   "pygments_lexer": "ipython3",
   "version": "3.11.5"
  }
 },
 "nbformat": 4,
 "nbformat_minor": 5
}
